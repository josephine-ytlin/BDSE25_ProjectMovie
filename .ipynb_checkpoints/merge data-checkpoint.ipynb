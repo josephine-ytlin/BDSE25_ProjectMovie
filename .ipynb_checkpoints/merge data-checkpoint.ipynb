{
 "cells": [
  {
   "cell_type": "code",
   "execution_count": null,
   "id": "6cd10a7e-7f0f-4c41-8842-f9fe286ab19f",
   "metadata": {},
   "outputs": [],
   "source": [
    "import pandas as pd"
   ]
  },
  {
   "cell_type": "code",
   "execution_count": null,
   "id": "bdf7aa41-45e6-4432-bd2c-ad4ca8f57f67",
   "metadata": {},
   "outputs": [],
   "source": [
    "ml_movies = pd.read_csv('data/ml-25m/movies.csv')\n",
    "ml_movies.head()"
   ]
  },
  {
   "cell_type": "code",
   "execution_count": null,
   "id": "491c7824-40b5-4275-b7e0-4d22b75db45b",
   "metadata": {},
   "outputs": [],
   "source": [
    "#clear year from title\n",
    "ml_movies['title'] = ml_movies['title'].str.split('(').str[0]"
   ]
  },
  {
   "cell_type": "code",
   "execution_count": null,
   "id": "f1f6448f-7fa2-4036-a230-36cf665ee79b",
   "metadata": {},
   "outputs": [],
   "source": [
    "ml_movies.head()"
   ]
  },
  {
   "cell_type": "code",
   "execution_count": null,
   "id": "2eec5baf-d74b-4cd4-ae5e-0bc8fc592712",
   "metadata": {},
   "outputs": [],
   "source": [
    "top = pd.read_csv('data/imdbtop250.csv')\n",
    "top250= top.rename(columns={'movie_title_name': 'primaryTitle','movie_title_rating': 'averageRating'})\n",
    "top250.head()"
   ]
  }
 ],
 "metadata": {
  "kernelspec": {
   "display_name": "Python 3 (ipykernel)",
   "language": "python",
   "name": "python3"
  },
  "language_info": {
   "codemirror_mode": {
    "name": "ipython",
    "version": 3
   },
   "file_extension": ".py",
   "mimetype": "text/x-python",
   "name": "python",
   "nbconvert_exporter": "python",
   "pygments_lexer": "ipython3",
   "version": "3.9.12"
  }
 },
 "nbformat": 4,
 "nbformat_minor": 5
}
